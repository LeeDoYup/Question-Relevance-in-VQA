{
 "cells": [
  {
   "cell_type": "code",
   "execution_count": 2,
   "metadata": {},
   "outputs": [
    {
     "name": "stderr",
     "output_type": "stream",
     "text": [
      "/home/linghao/anaconda3/lib/python3.6/site-packages/sklearn/cross_validation.py:41: DeprecationWarning: This module was deprecated in version 0.18 in favor of the model_selection module into which all the refactored classes and functions are moved. Also note that the interface of the new CV iterators are different from that of this module. This module will be removed in 0.20.\n",
      "  \"This module will be removed in 0.20.\", DeprecationWarning)\n"
     ]
    }
   ],
   "source": [
    "import numpy as np\n",
    "import xgboost as xgb"
   ]
  },
  {
   "cell_type": "code",
   "execution_count": 3,
   "metadata": {
    "collapsed": true
   },
   "outputs": [],
   "source": [
    "DATA_PATH = '/home/linghao/Question-Relevance-in-VQA/data/true_vs_false_premise/extended/processed/final_data/'"
   ]
  },
  {
   "cell_type": "code",
   "execution_count": 4,
   "metadata": {
    "collapsed": true
   },
   "outputs": [],
   "source": [
    "dtrain = xgb.DMatrix(DATA_PATH + 'qrpe_train_Xy.sl.all#dtrain.cache')"
   ]
  },
  {
   "cell_type": "code",
   "execution_count": 5,
   "metadata": {
    "collapsed": true
   },
   "outputs": [],
   "source": [
    "deval = xgb.DMatrix(DATA_PATH + 'qrpe_test_Xy.sl.all#deval.cache')"
   ]
  },
  {
   "cell_type": "code",
   "execution_count": 6,
   "metadata": {
    "collapsed": true
   },
   "outputs": [],
   "source": [
    "params = {\n",
    "    'booster': 'gbtree',\n",
    "    'objective': 'binary:logistic',\n",
    "    'subsample': 0.8,\n",
    "    'colsample_bytree': 0.8,\n",
    "    'eta': 0.5,\n",
    "    'seed': 10805\n",
    "}"
   ]
  },
  {
   "cell_type": "code",
   "execution_count": 7,
   "metadata": {
    "collapsed": true
   },
   "outputs": [],
   "source": [
    "watchlist = [(deval, 'eval')]"
   ]
  },
  {
   "cell_type": "code",
   "execution_count": 8,
   "metadata": {},
   "outputs": [
    {
     "name": "stdout",
     "output_type": "stream",
     "text": [
      "[0]\teval-error:0.418748\n",
      "Will train until eval-error hasn't improved in 20 rounds.\n",
      "[1]\teval-error:0.390889\n",
      "[2]\teval-error:0.379867\n",
      "[3]\teval-error:0.375907\n",
      "[4]\teval-error:0.370008\n",
      "[5]\teval-error:0.368374\n",
      "[6]\teval-error:0.363944\n",
      "[7]\teval-error:0.360399\n",
      "[8]\teval-error:0.360565\n",
      "[9]\teval-error:0.359485\n",
      "[10]\teval-error:0.360648\n",
      "[11]\teval-error:0.360925\n",
      "[12]\teval-error:0.358986\n",
      "[13]\teval-error:0.36267\n",
      "[14]\teval-error:0.363473\n",
      "[15]\teval-error:0.363168\n",
      "[16]\teval-error:0.363445\n",
      "[17]\teval-error:0.361839\n",
      "[18]\teval-error:0.362947\n",
      "[19]\teval-error:0.362448\n",
      "[20]\teval-error:0.362808\n",
      "[21]\teval-error:0.361617\n",
      "[22]\teval-error:0.35954\n",
      "[23]\teval-error:0.360703\n",
      "[24]\teval-error:0.359291\n",
      "[25]\teval-error:0.361036\n",
      "[26]\teval-error:0.358765\n",
      "[27]\teval-error:0.359568\n",
      "[28]\teval-error:0.359291\n",
      "[29]\teval-error:0.358183\n",
      "[30]\teval-error:0.357713\n",
      "[31]\teval-error:0.357629\n",
      "[32]\teval-error:0.360482\n",
      "[33]\teval-error:0.361257\n",
      "[34]\teval-error:0.359568\n",
      "[35]\teval-error:0.361063\n",
      "[36]\teval-error:0.362088\n",
      "[37]\teval-error:0.361451\n",
      "[38]\teval-error:0.36411\n",
      "[39]\teval-error:0.363888\n",
      "[40]\teval-error:0.362919\n",
      "[41]\teval-error:0.364165\n",
      "[42]\teval-error:0.364608\n",
      "[43]\teval-error:0.364774\n",
      "[44]\teval-error:0.36386\n",
      "[45]\teval-error:0.364497\n",
      "[46]\teval-error:0.365217\n",
      "[47]\teval-error:0.363805\n",
      "[48]\teval-error:0.364747\n",
      "[49]\teval-error:0.363251\n",
      "[50]\teval-error:0.365577\n",
      "[51]\teval-error:0.365107\n",
      "Stopping. Best iteration:\n",
      "[31]\teval-error:0.357629\n",
      "\n"
     ]
    }
   ],
   "source": [
    "clf = xgb.train(params, dtrain, 200, watchlist, early_stopping_rounds=20)"
   ]
  }
 ],
 "metadata": {
  "kernelspec": {
   "display_name": "Python 3",
   "language": "python",
   "name": "python3"
  },
  "language_info": {
   "codemirror_mode": {
    "name": "ipython",
    "version": 3
   },
   "file_extension": ".py",
   "mimetype": "text/x-python",
   "name": "python",
   "nbconvert_exporter": "python",
   "pygments_lexer": "ipython3",
   "version": "3.6.3"
  }
 },
 "nbformat": 4,
 "nbformat_minor": 2
}
